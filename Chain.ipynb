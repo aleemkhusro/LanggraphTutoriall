{
 "cells": [
  {
   "cell_type": "code",
   "execution_count": null,
   "metadata": {},
   "outputs": [],
   "source": [
    "from langchain_openai import AzureChatOpenAI\n",
    "from dotenv import load_dotenv\n",
    "import os\n",
    "# Load environment variables from a .env file\n",
    "load_dotenv()\n",
    "\n",
    "# Fetch sensitive details from environment variables\n",
    "azure_endpoint = os.getenv(\"AZURE_ENDPOINT\")\n",
    "openai_api_key = os.getenv(\"OPENAI_API_KEY\")\n",
    "deployment_name = os.getenv(\"DEPLOYMENT_NAME\")\n",
    "openai_api_version = os.getenv(\"OPENAI_API_VERSION\")\n",
    "\n",
    "# Define remaining kwargs\n",
    "kwargs = {\n",
    "    \"azure_endpoint\": azure_endpoint,\n",
    "    \"openai_api_version\": openai_api_version,\n",
    "    \"openai_api_type\": \"azure\",\n",
    "    \"openai_api_key\": openai_api_key,\n",
    "    \"deployment_name\": deployment_name,\n",
    "    \"request_timeout\": 45.0,\n",
    "    \"max_retries\": 1,\n",
    "    \"temperature\": 0.0,\n",
    "    \"seed\": 123,\n",
    "    \"streaming\": True,\n",
    "}\n",
    "\n",
    "# Initialize the LLM\n",
    "llm = AzureChatOpenAI(**kwargs)\n"
   ]
  },
  {
   "cell_type": "code",
   "execution_count": 5,
   "metadata": {},
   "outputs": [
    {
     "name": "stdout",
     "output_type": "stream",
     "text": [
      "==================================\u001b[1m Ai Message \u001b[0m==================================\n",
      "Name: AI\n",
      "\n",
      "So you were saying you were god?\n",
      "================================\u001b[1m Human Message \u001b[0m=================================\n",
      "Name: God\n",
      "\n",
      "Yes I was saying I'm God, I run this shizzzz\n",
      "==================================\u001b[1m Ai Message \u001b[0m==================================\n",
      "Name: AI\n",
      "\n",
      "Ok God. Why did the chicken cross the road?\n",
      "================================\u001b[1m Human Message \u001b[0m=================================\n",
      "Name: God\n",
      "\n",
      "To neutralize the entropy of the Universe\n"
     ]
    }
   ],
   "source": [
    "from pprint import pprint\n",
    "from langchain_core.messages import HumanMessage, AIMessage\n",
    "\n",
    "messages = [AIMessage(content = \"So you were saying you were god?\", name=\"AI\")]\n",
    "messages.append(HumanMessage(content=\"Yes I was saying I'm God, I run this shizzzz\", name=\"God\"))\n",
    "messages.append(AIMessage(content=\"Ok God. Why did the chicken cross the road? \", name='AI'))\n",
    "messages.append(HumanMessage(content= \"To neutralize the entropy of the Universe\", name=\"God\"))\n",
    "\n",
    "for m in messages:\n",
    "    m.pretty_print()"
   ]
  },
  {
   "cell_type": "code",
   "execution_count": 8,
   "metadata": {},
   "outputs": [
    {
     "data": {
      "text/plain": [
       "{'finish_reason': 'stop', 'model_name': 'gpt-4-32k'}"
      ]
     },
     "execution_count": 8,
     "metadata": {},
     "output_type": "execute_result"
    }
   ],
   "source": [
    "result = llm.invoke(messages)\n",
    "result.response_metadata"
   ]
  },
  {
   "cell_type": "code",
   "execution_count": 9,
   "metadata": {},
   "outputs": [],
   "source": [
    "def multiply(a: int, b:int)-> int:\n",
    "    \"\"\"\n",
    "    This is a multiply function taking inputs a and b\n",
    "    Args:   \n",
    "        a: the first integer\n",
    "        b: the second integer\n",
    "    \"\"\"\n",
    "    return a*b\n",
    "\n",
    "llm_with_tools = llm.bind_tools([multiply])\n"
   ]
  },
  {
   "cell_type": "code",
   "execution_count": 11,
   "metadata": {},
   "outputs": [
    {
     "data": {
      "text/plain": [
       "AIMessage(content='', additional_kwargs={'tool_calls': [{'index': 0, 'id': 'call_h0JoG7i4hSFo2ZCbfvGjDZFc', 'function': {'arguments': '{\\n  \"a\": 3,\\n  \"b\": 5\\n}', 'name': 'multiply'}, 'type': 'function'}]}, response_metadata={'finish_reason': 'tool_calls', 'model_name': 'gpt-4-32k'}, id='run-3666126f-776a-4ddf-a74c-e606f91ffc92-0', tool_calls=[{'name': 'multiply', 'args': {'a': 3, 'b': 5}, 'id': 'call_h0JoG7i4hSFo2ZCbfvGjDZFc', 'type': 'tool_call'}])"
      ]
     },
     "execution_count": 11,
     "metadata": {},
     "output_type": "execute_result"
    }
   ],
   "source": [
    "# now we are going to see a tool call\n",
    "\n",
    "tool_call = llm_with_tools.invoke([HumanMessage(content='These two numbers are given 3, and 5, and the results is a numerical computation, of the \\\n",
    "                                                multiplicative variety')])\n",
    "tool_call"
   ]
  },
  {
   "cell_type": "code",
   "execution_count": 15,
   "metadata": {},
   "outputs": [
    {
     "data": {
      "text/plain": [
       "'{\\n  \"a\": 3,\\n  \"b\": 5\\n}'"
      ]
     },
     "execution_count": 15,
     "metadata": {},
     "output_type": "execute_result"
    }
   ],
   "source": [
    "tool_call.additional_kwargs['tool_calls'][0]['function']['arguments']"
   ]
  },
  {
   "cell_type": "markdown",
   "metadata": {},
   "source": [
    "## Message States as a list"
   ]
  },
  {
   "cell_type": "code",
   "execution_count": null,
   "metadata": {},
   "outputs": [],
   "source": [
    "from typing_extensions import TypedDict, Annotated\n",
    "from langchain_core.messages import AnyMessage\n",
    "from langgraph.graph import add_messages, MessagesState\n",
    "\n",
    "class MessagesStateCustom(TypedDict):\n",
    "    messages: Annotated[list[AnyMessage], add_messages]\n",
    "\n",
    "# we can defined messages as a list of AnyMessage and add_message as reducer function, which is just going to append\n",
    "# or we can also use the built in MessagesState class in langgraph which just defines something like our custom \n",
    "# implementation. It defines a list called messages, and it has add_messages as a reducer function\n",
    "\n",
    "\n",
    "\n"
   ]
  },
  {
   "cell_type": "code",
   "execution_count": 17,
   "metadata": {},
   "outputs": [
    {
     "data": {
      "image/png": "[encoded data removed]",
      "text/plain": [
       "<IPython.core.display.Image object>"
      ]
     },
     "metadata": {},
     "output_type": "display_data"
    }
   ],
   "source": [
    "# let's build a graph with what we have learned\n",
    "from IPython.display import Image, display\n",
    "from langgraph.graph import StateGraph, START, END\n",
    "def tool_calling_llm(state: MessagesState):\n",
    "    return {\"messages\": [llm_with_tools.invoke(state['messages'])]}\n",
    "\n",
    "builder = StateGraph(MessagesState)\n",
    "builder.add_node('tool_calling_llm', tool_calling_llm)\n",
    "builder.add_edge(START, 'tool_calling_llm')\n",
    "builder.add_edge('tool_calling_llm', END)\n",
    "graph = builder.compile()\n",
    "\n",
    "display(Image(graph.get_graph().draw_mermaid_png()))\n"
   ]
  },
  {
   "cell_type": "code",
   "execution_count": 24,
   "metadata": {},
   "outputs": [
    {
     "name": "stdout",
     "output_type": "stream",
     "text": [
      "================================\u001b[1m Human Message \u001b[0m=================================\n",
      "\n",
      "Write me the result of multiplication 3, 4 \n",
      "==================================\u001b[1m Ai Message \u001b[0m==================================\n",
      "Tool Calls:\n",
      "  multiply (call_sf1RkyaS6Ob2ZUzARUWWFInB)\n",
      " Call ID: call_sf1RkyaS6Ob2ZUzARUWWFInB\n",
      "  Args:\n",
      "    a: 3\n",
      "    b: 4\n"
     ]
    }
   ],
   "source": [
    "result = graph.invoke({'messages': [HumanMessage(content=\"Write me the result of multiplication 3, 4 \")]})\n",
    "for m in result['messages']:\n",
    "    m.pretty_print()"
   ]
  },
  {
   "cell_type": "code",
   "execution_count": 27,
   "metadata": {},
   "outputs": [
    {
     "name": "stdout",
     "output_type": "stream",
     "text": [
      "================================\u001b[1m Human Message \u001b[0m=================================\n",
      "\n",
      "Write a joke about James Bond 007's mental illness\n",
      "==================================\u001b[1m Ai Message \u001b[0m==================================\n",
      "\n",
      "Why did James Bond 007 start seeing a therapist?\n",
      "\n",
      "Because he couldn't handle his \"double-O\"CD!\n"
     ]
    }
   ],
   "source": [
    "result = graph.invoke({'messages': [HumanMessage(content=\"Write a joke about James Bond 007's mental illness\")]})\n",
    "for m in result['messages']:\n",
    "    m.pretty_print()"
   ]
  }
 ],
 "metadata": {
  "kernelspec": {
   "display_name": ".venv",
   "language": "python",
   "name": "python3"
  },
  "language_info": {
   "codemirror_mode": {
    "name": "ipython",
    "version": 3
   },
   "file_extension": ".py",
   "mimetype": "text/x-python",
   "name": "python",
   "nbconvert_exporter": "python",
   "pygments_lexer": "ipython3",
   "version": "3.11.0"
  }
 },
 "nbformat": 4,
 "nbformat_minor": 2
}
