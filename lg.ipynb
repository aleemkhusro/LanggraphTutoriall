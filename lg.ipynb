{
 "cells": [
  {
   "cell_type": "code",
   "execution_count": null,
   "metadata": {},
   "outputs": [],
   "source": [
    "from langchain_openai import AzureChatOpenAI\n",
    "from dotenv import load_dotenv\n",
    "import os\n",
    "# Load environment variables from a .env file\n",
    "load_dotenv()\n",
    "\n",
    "# Fetch sensitive details from environment variables\n",
    "azure_endpoint = os.getenv(\"AZURE_ENDPOINT\")\n",
    "openai_api_key = os.getenv(\"OPENAI_API_KEY\")\n",
    "deployment_name = os.getenv(\"DEPLOYMENT_NAME\")\n",
    "openai_api_version = os.getenv(\"OPENAI_API_VERSION\")\n",
    "\n",
    "# Define remaining kwargs\n",
    "kwargs = {\n",
    "    \"azure_endpoint\": azure_endpoint,\n",
    "    \"openai_api_version\": openai_api_version,\n",
    "    \"openai_api_type\": \"azure\",\n",
    "    \"openai_api_key\": openai_api_key,\n",
    "    \"deployment_name\": deployment_name,\n",
    "    \"request_timeout\": 45.0,\n",
    "    \"max_retries\": 1,\n",
    "    \"temperature\": 0.0,\n",
    "    \"seed\": 123,\n",
    "    \"streaming\": True,\n",
    "}\n",
    "\n",
    "# Initialize the LLM\n",
    "llm = AzureChatOpenAI(**kwargs)"
   ]
  },
  {
   "cell_type": "code",
   "execution_count": 2,
   "metadata": {},
   "outputs": [
    {
     "name": "stdout",
     "output_type": "stream",
     "text": [
      "||As| an| artificial| intelligence|,| I| don|'t| have| personal| experiences| or| emotions|,| so| I| don|'t| have| Saturdays| or| any| other| days|.| However|,| I| can| certainly| explain| the| concept| of| Saturday| to| you|.\n",
      "\n",
      "|Saturday| is| the| sixth| day| of| the| week| according| to| the| international| standard| ISO| |860|1|.| However|,| in| many| cultures| and| religions|,| it| is| considered| the| seventh| and| final| day| of| the| week|.| The| name| \"|Saturday|\"| comes| from| the| Roman| god| Saturn|,| and| the| day| was| originally| dedicated| to| him|.\n",
      "\n",
      "|Saturday| is| typically| considered| a| day| of| rest| or| leisure|,| a| concept| that| has| its| roots| in| various| religious| traditions|.| For| example|,| in| Judaism|,| Saturday| is| the| Sabbath|,| a| day| of| rest| and| worship|.| Similarly|,| in| Christianity|,| particularly| among| Seventh|-day| Advent|ists|,| Saturday| is| observed| as| the| Sabbath|.\n",
      "\n",
      "|In| many| countries|,| Saturday| is| a| part| of| the| weekend|,| a| period| of| time| off| from| work| or| school|.| This| makes| it| a| popular| day| for| recreational| activities|,| social| events|,| and| chores| or| tasks| around| the| home|.| Many| people| also| use| Saturday| as| a| day| to| sleep| in| and| recover| from| the| work|week|.\n",
      "\n",
      "|In| terms| of| business| operations|,| Saturday| can| vary|.| Some| businesses|,| particularly| those| in| retail| or| hospitality|,| may| be| bus|ier| on| Saturdays| due| to| increased| customer| demand|.| Other| businesses| may| be| closed| or| have| reduced| hours|.\n",
      "\n",
      "|In| astrology|,| Saturday| is| associated| with| the| planet| Saturn| and| is| said| to| influence| discipline|,| responsibility|,| and| limitations|.\n",
      "\n",
      "|Overall|,| the| concept| of| Saturday| can| vary| greatly| depending| on| cultural|,| religious|,| and| personal| beliefs| and| practices|.||"
     ]
    }
   ],
   "source": [
    "ans = llm.stream(\"How was your Saturday? Eplxain the concept of Saturday in great detail\")\n",
    "\n",
    "for chunk in ans:\n",
    "    print(chunk.content, end=\"|\", flush=True)"
   ]
  },
  {
   "cell_type": "code",
   "execution_count": 30,
   "metadata": {},
   "outputs": [
    {
     "data": {
      "text/plain": [
       "'dfd'"
      ]
     },
     "execution_count": 30,
     "metadata": {},
     "output_type": "execute_result"
    }
   ],
   "source": [
    "\n",
    "from typing_extensions import TypedDict\n",
    "\n",
    "class State(TypedDict):\n",
    "    graph_state: str\n",
    "\n",
    "x = State(graph_state='dfd')    \n"
   ]
  },
  {
   "cell_type": "code",
   "execution_count": 31,
   "metadata": {},
   "outputs": [
    {
     "data": {
      "text/plain": [
       "{'graph_state': 'dfd I am'}"
      ]
     },
     "execution_count": 31,
     "metadata": {},
     "output_type": "execute_result"
    }
   ],
   "source": [
    "x = {\"graph_state\": x['graph_state'] +\" I am\"}\n",
    "x"
   ]
  },
  {
   "cell_type": "code",
   "execution_count": 77,
   "metadata": {},
   "outputs": [
    {
     "data": {
      "image/jpeg": "[encoded data removed]",
      "text/plain": [
       "<IPython.core.display.Image object>"
      ]
     },
     "metadata": {},
     "output_type": "display_data"
    }
   ],
   "source": [
    "\n",
    "import random\n",
    "from typing import Literal\n",
    "\n",
    "def node_1(state):\n",
    "    print(\"---Node 1---\")\n",
    "    return {\"graph_state\": state['graph_state'] +\" I am\"}\n",
    "\n",
    "def node_2(state):\n",
    "    print(\"---Node 2---\")\n",
    "    return {\"graph_state\": state['graph_state'] +\" happy!\"}\n",
    "\n",
    "def node_3(state):\n",
    "    print(\"---Node 3---\")\n",
    "    return {\"graph_state\": state['graph_state'] +\" sad!\"}\n",
    "\n",
    "def decide_mood(state) -> Literal[\"node_2\", \"node_3\"]:\n",
    "    \n",
    "    # Often, we will use state to decide on the next node to visit\n",
    "    user_input = state['graph_state'] \n",
    "    \n",
    "    # Here, let's just do a 50 / 50 split between nodes 2, 3\n",
    "    if random.random() < 0.5:\n",
    "\n",
    "        # 50% of the time, we return Node 2\n",
    "        return \"node_2\"\n",
    "    \n",
    "    # 50% of the time, we return Node 3\n",
    "    return \"node_3\"\n",
    "from IPython.display import Image, display\n",
    "from langgraph.graph import StateGraph, START, END\n",
    "\n",
    "# Build graph\n",
    "builder = StateGraph(State)\n",
    "builder.add_node(\"node_1\", node_1)\n",
    "builder.add_node(\"node_2\", node_2)\n",
    "builder.add_node(\"node_3\", node_3)\n",
    "\n",
    "# Logic\n",
    "builder.add_edge(START, \"node_1\")\n",
    "builder.add_conditional_edges(\"node_1\", decide_mood)\n",
    "builder.add_edge(\"node_2\", END)\n",
    "builder.add_edge(\"node_3\", END)\n",
    "\n",
    "# Add\n",
    "graph = builder.compile()\n",
    "\n",
    "# View\n",
    "display(Image(graph.get_graph().draw_mermaid_png()))"
   ]
  },
  {
   "cell_type": "code",
   "execution_count": 76,
   "metadata": {},
   "outputs": [
    {
     "name": "stdout",
     "output_type": "stream",
     "text": [
      "---Node 1---\n",
      "---Node 2---\n"
     ]
    },
    {
     "data": {
      "text/plain": [
       "{'graph_state': 'Hi I AM GOD  I am happy!'}"
      ]
     },
     "execution_count": 76,
     "metadata": {},
     "output_type": "execute_result"
    }
   ],
   "source": [
    "graph.invoke({'graph_state':'Hi I AM GOD '})\n"
   ]
  },
  {
   "cell_type": "markdown",
   "metadata": {},
   "source": [
    "# Module 2"
   ]
  },
  {
   "cell_type": "code",
   "execution_count": 84,
   "metadata": {},
   "outputs": [
    {
     "name": "stdout",
     "output_type": "stream",
     "text": [
      "==================================\u001b[1m Ai Message \u001b[0m==================================\n",
      "Name: Model\n",
      "\n",
      "Hello how are you?\n",
      "================================\u001b[1m Human Message \u001b[0m=================================\n",
      "Name: Aleem\n",
      "\n",
      "I am doing okay. I would like to know what is a Saturday in china?\n"
     ]
    }
   ],
   "source": [
    "from langchain_core.messages import AIMessage, HumanMessage\n",
    "\n",
    "messages = [AIMessage(content=\"Hello how are you?\", name='Model')]\n",
    "messages.append(HumanMessage(content=\"I am doing okay. I would like to know what is a Saturday in china?\", name='Aleem'))\n",
    "from pprint import pprint\n",
    "for m in messages:\n",
    "    m.pretty_print()"
   ]
  },
  {
   "cell_type": "code",
   "execution_count": 86,
   "metadata": {},
   "outputs": [],
   "source": [
    "res = llm.invoke(messages)"
   ]
  },
  {
   "cell_type": "code",
   "execution_count": 91,
   "metadata": {},
   "outputs": [],
   "source": [
    "\n",
    "def multiply(a: str, b: str) -> int:\n",
    "    \"\"\"Multiply a and b.\n",
    "\n",
    "    Args:\n",
    "        a: first int\n",
    "        b: second int\n",
    "    \"\"\"\n",
    "    return a * b\n",
    "\n",
    "llm_with_tools = llm.bind_tools([multiply])"
   ]
  },
  {
   "cell_type": "code",
   "execution_count": 92,
   "metadata": {},
   "outputs": [
    {
     "data": {
      "text/plain": [
       "AIMessage(content='', additional_kwargs={'tool_calls': [{'index': 0, 'id': 'call_e3MNebRl0WV2SYzFkP0kmXKX', 'function': {'arguments': '{\\n  \"a\": \"2\",\\n  \"b\": \"3\"\\n}', 'name': 'multiply'}, 'type': 'function'}]}, response_metadata={'finish_reason': 'tool_calls', 'model_name': 'gpt-4-32k'}, id='run-98d1d66a-4bdf-4604-ad0a-38f10e283ea8-0', tool_calls=[{'name': 'multiply', 'args': {'a': '2', 'b': '3'}, 'id': 'call_e3MNebRl0WV2SYzFkP0kmXKX', 'type': 'tool_call'}])"
      ]
     },
     "execution_count": 92,
     "metadata": {},
     "output_type": "execute_result"
    }
   ],
   "source": [
    "tool_call = llm_with_tools.invoke([HumanMessage(content=f\"What is 2 multiplied by 3\", name=\"Lance\")])\n",
    "tool_call"
   ]
  },
  {
   "cell_type": "code",
   "execution_count": 93,
   "metadata": {},
   "outputs": [
    {
     "data": {
      "text/plain": [
       "[{'name': 'multiply',\n",
       "  'args': {'a': '2', 'b': '3'},\n",
       "  'id': 'call_e3MNebRl0WV2SYzFkP0kmXKX',\n",
       "  'type': 'tool_call'}]"
      ]
     },
     "execution_count": 93,
     "metadata": {},
     "output_type": "execute_result"
    }
   ],
   "source": [
    "tool_call.tool_calls"
   ]
  },
  {
   "cell_type": "code",
   "execution_count": 96,
   "metadata": {},
   "outputs": [],
   "source": [
    "from langchain_core.messages import AnyMessage\n",
    "from typing import List, Annotated\n",
    "from langgraph.graph.message import add_messages\n",
    "class MessageState(TypedDict):\n",
    "    messages: Annotated[List[AnyMessage], add_messages]\n",
    "    \n",
    "\n",
    "\n"
   ]
  },
  {
   "cell_type": "markdown",
   "metadata": {},
   "source": [
    "Langgraph also supports this basic functionality of list of messages as state, and applying an append reducer"
   ]
  },
  {
   "cell_type": "code",
   "execution_count": 122,
   "metadata": {},
   "outputs": [],
   "source": [
    "\n",
    "from langgraph.graph import MessagesState\n",
    "\n",
    "# class MessagesState(MessagesState):\n",
    "#     pass\n",
    "\n",
    "\n"
   ]
  },
  {
   "cell_type": "code",
   "execution_count": 99,
   "metadata": {},
   "outputs": [
    {
     "data": {
      "text/plain": [
       "[AIMessage(content='Hello! How can I assist you?', additional_kwargs={}, response_metadata={}, name='Model', id='e00115b7-34df-4971-8943-bb2bb723a0fd'),\n",
       " HumanMessage(content=\"I'm looking for information on marine biology.\", additional_kwargs={}, response_metadata={}, name='Lance', id='d7bf777b-dd50-414c-ba93-3c8dbba4bcca'),\n",
       " AIMessage(content='Sure, I can help with that. What specifically are you interested in?', additional_kwargs={}, response_metadata={}, name='Model', id='b9f9bead-4233-4c3e-a0b5-5b77ccd688c8')]"
      ]
     },
     "execution_count": 99,
     "metadata": {},
     "output_type": "execute_result"
    }
   ],
   "source": [
    "# Initial state\n",
    "initial_messages = [AIMessage(content=\"Hello! How can I assist you?\", name=\"Model\"),\n",
    "                    HumanMessage(content=\"I'm looking for information on marine biology.\", name=\"Lance\")\n",
    "                   ]\n",
    "\n",
    "# New message to add\n",
    "new_message = AIMessage(content=\"Sure, I can help with that. What specifically are you interested in?\", name=\"Model\")\n",
    "\n",
    "# Test\n",
    "add_messages(initial_messages , new_message)"
   ]
  },
  {
   "cell_type": "code",
   "execution_count": 100,
   "metadata": {},
   "outputs": [
    {
     "data": {
      "text/plain": [
       "[AIMessage(content='Hello! How can I assist you?', additional_kwargs={}, response_metadata={}, name='Model', id='e00115b7-34df-4971-8943-bb2bb723a0fd'),\n",
       " HumanMessage(content=\"I'm looking for information on marine biology.\", additional_kwargs={}, response_metadata={}, name='Lance', id='d7bf777b-dd50-414c-ba93-3c8dbba4bcca'),\n",
       " AIMessage(content='Sure, I can help with that. What specifically are you interested in?', additional_kwargs={}, response_metadata={}, name='Model', id='b9f9bead-4233-4c3e-a0b5-5b77ccd688c8')]"
      ]
     },
     "execution_count": 100,
     "metadata": {},
     "output_type": "execute_result"
    }
   ],
   "source": [
    "initial_messages.append(new_message)\n",
    "initial_messages"
   ]
  },
  {
   "cell_type": "markdown",
   "metadata": {},
   "source": [
    "Now we are done seeing how the messages are created, so we will move on to see how the tool calls can be added with an LLM call, and how to buidl the graph"
   ]
  },
  {
   "cell_type": "code",
   "execution_count": 123,
   "metadata": {},
   "outputs": [
    {
     "data": {
      "image/jpeg": "[encoded data removed]",
      "text/plain": [
       "<IPython.core.display.Image object>"
      ]
     },
     "metadata": {},
     "output_type": "display_data"
    }
   ],
   "source": [
    "def tool_calling_llm (state: MessagesState):\n",
    "    return {'messages': llm_with_tools.invoke(state['messages'])}\n",
    "\n",
    "from langgraph.graph import StateGraph, START, END\n",
    "\n",
    "builder = StateGraph(MessagesState)\n",
    "\n",
    "builder.add_node('tool_calling_llm', tool_calling_llm)\n",
    "builder.add_edge(START, 'tool_calling_llm')\n",
    "builder.add_edge('tool_calling_llm', END)\n",
    "graph = builder.compile()\n",
    "display(Image(graph.get_graph().draw_mermaid_png()))\n",
    "\n",
    "\n"
   ]
  },
  {
   "cell_type": "code",
   "execution_count": 127,
   "metadata": {},
   "outputs": [
    {
     "name": "stdout",
     "output_type": "stream",
     "text": [
      "================================\u001b[1m Human Message \u001b[0m=================================\n",
      "\n",
      "hey waht is a 2x3\n",
      "==================================\u001b[1m Ai Message \u001b[0m==================================\n",
      "Tool Calls:\n",
      "  multiply (call_e3MNebRl0WV2SYzFkP0kmXKX)\n",
      " Call ID: call_e3MNebRl0WV2SYzFkP0kmXKX\n",
      "  Args:\n",
      "    a: 2\n",
      "    b: 3\n"
     ]
    }
   ],
   "source": [
    "ms = graph.invoke({'messages': HumanMessage(content=\"hey waht is a 2x3\")})\n",
    "\n",
    "for m in ms['messages']:\n",
    "    # print(type(m))\n",
    "    m.pretty_print()\n"
   ]
  },
  {
   "cell_type": "code",
   "execution_count": 125,
   "metadata": {},
   "outputs": [
    {
     "data": {
      "text/plain": [
       "{'messageas': ['Yooooo']}"
      ]
     },
     "execution_count": 125,
     "metadata": {},
     "output_type": "execute_result"
    }
   ],
   "source": [
    "MessagesState({'messageas': ['Yooooo'] })."
   ]
  }
 ],
 "metadata": {
  "kernelspec": {
   "display_name": ".venv",
   "language": "python",
   "name": "python3"
  },
  "language_info": {
   "codemirror_mode": {
    "name": "ipython",
    "version": 3
   },
   "file_extension": ".py",
   "mimetype": "text/x-python",
   "name": "python",
   "nbconvert_exporter": "python",
   "pygments_lexer": "ipython3",
   "version": "3.11.0"
  }
 },
 "nbformat": 4,
 "nbformat_minor": 2
}
